{
 "cells": [
  {
   "cell_type": "code",
   "execution_count": 2,
   "id": "79e8c447-716d-4855-b733-595e4fd2791d",
   "metadata": {},
   "outputs": [],
   "source": [
    "#TO REFURBISH OR MAKING CHANGES IN THE EXISTING INVENTORY\n",
    "import json\n",
    "record={1001:{\"NAME\":\"5 STARS\",\"PRICE\":10,\"QN\":100},\n",
    "        1002:{\"NAME\":\"DAIRY MILK\",\"PRICE\":20,\"QN\":50},\n",
    "        1003:{\"NAME\":\"MILKY BAR\",\"PRICE\":100,\"QN\":10},\n",
    "        1004:{\"NAME\":\"BOURNVILLA\",\"PRICE\":70,\"QN\":140}}\n",
    "js=json.dumps(record)\n",
    "fd=open(\"INVENTORY.json\",\"w\")\n",
    "fd.write(js)\n",
    "fd.close()"
   ]
  },
  {
   "cell_type": "code",
   "execution_count": 4,
   "id": "801194a9-30a2-405b-b9ef-13819b75bf6c",
   "metadata": {},
   "outputs": [],
   "source": [
    "#TO CLEAR THE TRANSACTION SALES CSV FILES IF REQUIRED\n",
    "fd=open(\"TRANSACTION SALES.csv\",\"w\")\n",
    "SE=\"TIME AND DATE\"+\",\"+\"NAME\"+\",\"+\"PHONE\"+\",\"+\"EMAIL\"+\",\"+\"PRODUCT PURCHASED\"+\",\"+\"QUANTITY\"+\",\"+\"AMOUNT PAID\"+\"\\n\"\n",
    "fd.write(SE)\n",
    "fd.close()"
   ]
  },
  {
   "cell_type": "code",
   "execution_count": 6,
   "id": "11d3059e-4480-434c-ac7b-14ebd7b66304",
   "metadata": {},
   "outputs": [
    {
     "name": "stdout",
     "output_type": "stream",
     "text": [
      "---------------------------------------- MENU -------------------------------------------\n",
      "PRODUCT ID: 1001 \t NAME: 5 STARS         \t PRICE: 10    \t QUANTITY AVAILABLE: 100 \n",
      "\n",
      "PRODUCT ID: 1002 \t NAME: DAIRY MILK      \t PRICE: 20    \t QUANTITY AVAILABLE: 50 \n",
      "\n",
      "PRODUCT ID: 1003 \t NAME: MILKY BAR       \t PRICE: 100   \t QUANTITY AVAILABLE: 10 \n",
      "\n",
      "PRODUCT ID: 1004 \t NAME: BOURNVILLA      \t PRICE: 70    \t QUANTITY AVAILABLE: 140 \n",
      "\n",
      "IF YOU PURCHASE ITEMS WORTH GREATER THAN 5000 , 50% DISCOUNT WILL BE APPLIED !! \n",
      "\n",
      "---------------------------------------- ---- -------------------------------------------\n"
     ]
    },
    {
     "name": "stdin",
     "output_type": "stream",
     "text": [
      "ENTER YOUR NAME: MOHAR CHATTERJEE\n"
     ]
    },
    {
     "name": "stdout",
     "output_type": "stream",
     "text": [
      " \n"
     ]
    },
    {
     "name": "stdin",
     "output_type": "stream",
     "text": [
      "ENTER YOUR PHONE NUMBER: 12378654\n"
     ]
    },
    {
     "name": "stdout",
     "output_type": "stream",
     "text": [
      " \n"
     ]
    },
    {
     "name": "stdin",
     "output_type": "stream",
     "text": [
      "ENTER YOUR MAIL ADDRESS: XYZ@gmail.com\n"
     ]
    },
    {
     "name": "stdout",
     "output_type": "stream",
     "text": [
      " \n"
     ]
    },
    {
     "name": "stdin",
     "output_type": "stream",
     "text": [
      "ENTER THE PRODUCT ID THAT YOU WANT TO PURCHASE: 1001\n"
     ]
    },
    {
     "name": "stdout",
     "output_type": "stream",
     "text": [
      " \n"
     ]
    },
    {
     "name": "stdin",
     "output_type": "stream",
     "text": [
      "ENTER THE PRODUCT QUANTITY THAT YOU WANT TO PURCHASE: 20\n"
     ]
    },
    {
     "name": "stdout",
     "output_type": "stream",
     "text": [
      " \n"
     ]
    },
    {
     "name": "stdin",
     "output_type": "stream",
     "text": [
      "DO YOU WANT TO CONTINUE (YES/NO): yes\n"
     ]
    },
    {
     "name": "stdout",
     "output_type": "stream",
     "text": [
      "**************************************** **** *******************************************\n"
     ]
    },
    {
     "name": "stdin",
     "output_type": "stream",
     "text": [
      "ENTER THE PRODUCT ID THAT YOU WANT TO PURCHASE: 1002\n"
     ]
    },
    {
     "name": "stdout",
     "output_type": "stream",
     "text": [
      " \n"
     ]
    },
    {
     "name": "stdin",
     "output_type": "stream",
     "text": [
      "ENTER THE PRODUCT QUANTITY THAT YOU WANT TO PURCHASE: 40\n"
     ]
    },
    {
     "name": "stdout",
     "output_type": "stream",
     "text": [
      " \n"
     ]
    },
    {
     "name": "stdin",
     "output_type": "stream",
     "text": [
      "DO YOU WANT TO CONTINUE (YES/NO): yes\n"
     ]
    },
    {
     "name": "stdout",
     "output_type": "stream",
     "text": [
      "**************************************** **** *******************************************\n"
     ]
    },
    {
     "name": "stdin",
     "output_type": "stream",
     "text": [
      "ENTER THE PRODUCT ID THAT YOU WANT TO PURCHASE: 1003\n"
     ]
    },
    {
     "name": "stdout",
     "output_type": "stream",
     "text": [
      " \n"
     ]
    },
    {
     "name": "stdin",
     "output_type": "stream",
     "text": [
      "ENTER THE PRODUCT QUANTITY THAT YOU WANT TO PURCHASE: 10\n"
     ]
    },
    {
     "name": "stdout",
     "output_type": "stream",
     "text": [
      " \n"
     ]
    },
    {
     "name": "stdin",
     "output_type": "stream",
     "text": [
      "DO YOU WANT TO CONTINUE (YES/NO): yes\n"
     ]
    },
    {
     "name": "stdout",
     "output_type": "stream",
     "text": [
      "**************************************** **** *******************************************\n"
     ]
    },
    {
     "name": "stdin",
     "output_type": "stream",
     "text": [
      "ENTER THE PRODUCT ID THAT YOU WANT TO PURCHASE: 1004\n"
     ]
    },
    {
     "name": "stdout",
     "output_type": "stream",
     "text": [
      " \n"
     ]
    },
    {
     "name": "stdin",
     "output_type": "stream",
     "text": [
      "ENTER THE PRODUCT QUANTITY THAT YOU WANT TO PURCHASE: 140\n"
     ]
    },
    {
     "name": "stdout",
     "output_type": "stream",
     "text": [
      " \n"
     ]
    },
    {
     "name": "stdin",
     "output_type": "stream",
     "text": [
      "DO YOU WANT TO CONTINUE (YES/NO): no\n"
     ]
    },
    {
     "name": "stdout",
     "output_type": "stream",
     "text": [
      "**************************************** **** *******************************************\n",
      "---------------------------------------- BILL -------------------------------------------\n",
      "PRODUCT ID: 1001 \t NAME: 5 STARS         \t PRICE:Rs 10    \t QUANTITY: 20 \n",
      "\n",
      "PRODUCT ID: 1002 \t NAME: DAIRY MILK      \t PRICE:Rs 20    \t QUANTITY: 40 \n",
      "\n",
      "PRODUCT ID: 1003 \t NAME: MILKY BAR       \t PRICE:Rs 100   \t QUANTITY: 10 \n",
      "\n",
      "PRODUCT ID: 1004 \t NAME: BOURNVILLA      \t PRICE:Rs 70    \t QUANTITY: 140 \n",
      "\n",
      "-----------------------------------------------------------------------------------------\n",
      "TOTAL:                                                          Rs 11800 \n",
      "\n",
      "TOTAL AFTER 50% DISCOUNT APPLIED                                Rs 5900.0 \n",
      "\n",
      "18% GST WILL BE APPLIED.\n",
      "FINAL BILLING AMOUNT:                                           Rs 6962.0 \n",
      "\n",
      "BILLING TIME AND DATE: ['SAT JUN 29 16:16:58 2024']\n"
     ]
    }
   ],
   "source": [
    "# import json\n",
    "import time\n",
    "fd=open(\"INVENTORY.json\",\"r\")\n",
    "jsr=fd.read()\n",
    "fd.close()\n",
    "record =json.loads(jsr)\n",
    "fd=open(\"TRANSACTION SALES.csv\",\"a\")\n",
    "print(\"-\" * 40, \"MENU\", \"-\" * 43)\n",
    "for key in record.keys():\n",
    "    print(\"PRODUCT ID:\", key, \"\\t NAME:\", record[key][\"NAME\"].ljust(15), \"\\t PRICE:\", str(record[key][\"PRICE\"]).ljust(5), \"\\t QUANTITY AVAILABLE:\", record[key][\"QN\"],\"\\n\")\n",
    "print(\"IF YOU PURCHASE ITEMS WORTH GREATER THAN 5000 , 50% DISCOUNT WILL BE APPLIED !!\",\"\\n\")    \n",
    "print(\"-\" * 40, \"----\", \"-\" * 43)\n",
    "# Initialize an empty dictionary to store the product IDs and quantities\n",
    "id_dct = {}\n",
    "# Set a boolean variable to True\n",
    "bul = True\n",
    "# Prompt the user to input their name\n",
    "ui_username = input(\"ENTER YOUR NAME:\")\n",
    "print(\" \")\n",
    "# Prompt the user to input their phone number\n",
    "ui_phone = input(\"ENTER YOUR PHONE NUMBER:\")\n",
    "print(\" \")\n",
    "# Prompt the user to input their email address\n",
    "ui_email = input(\"ENTER YOUR MAIL ADDRESS:\")\n",
    "print(\" \")\n",
    "# Use a try-except block to handle potential errors\n",
    "try:\n",
    "    # Create a while loop that runs as long as 'bul' is True\n",
    "    while bul == True:\n",
    "        # Prompt the user to input the product ID they want to purchase\n",
    "        ui_pr = input(\"ENTER THE PRODUCT ID THAT YOU WANT TO PURCHASE:\")\n",
    "        print(\" \")\n",
    "        # Prompt the user to input the quantity of the product they want to purchase\n",
    "        ui_qn = int(input(\"ENTER THE PRODUCT QUANTITY THAT YOU WANT TO PURCHASE:\"))\n",
    "        print(\" \")\n",
    "        # Check if the requested quantity is available in the inventory\n",
    "        if record[ui_pr][\"QN\"] >= ui_qn:\n",
    "            # If available, add the product ID and quantity to the 'id_dct' dictionary\n",
    "            id_dct[ui_pr] = ui_qn\n",
    "            # Update the inventory quantity for the purchased product\n",
    "            record[ui_pr][\"QN\"] = record[ui_pr][\"QN\"] - ui_qn\n",
    "        else:\n",
    "            # If the requested quantity is not available, handle the scenario\n",
    "            if record[ui_pr][\"QN\"] > 0:\n",
    "                # Inform the user about the limited quantity available\n",
    "                print(\"SORRY WE DON'T HAVE ENOUGH QUANTITY.\\n\")\n",
    "                print(\"WE ONLY HAVE\", record[ui_pr][\"QN\"], \"QUANTITY OF THE PRODUCT.\\n\")\n",
    "                # Prompt the user to decide whether to purchase the available quantity\n",
    "                f = input(\"WOULD YOU LIKE TO PURCHASE WHAT WE HAVE (YES/NO):\")\n",
    "                if f.lower() == 'yes':\n",
    "                    # If the user chooses to purchase the available quantity, update 'id_dct' and inventory\n",
    "                    id_dct[ui_pr] = record[ui_pr][\"QN\"]\n",
    "                    record[ui_pr][\"QN\"] = 0\n",
    "            else:\n",
    "                # If the product is not available in the inventory, inform the user\n",
    "                print(\"SORRY WE DON'T HAVE THAT PRODUCT IN OUR INVENTORY TRY AGAIN LATER PLEASE.\\n\")\n",
    "                print(\"THANK YOU!\\n\")\n",
    "        # Prompt the user to decide whether to continue purchasing\n",
    "        s = input(\"DO YOU WANT TO CONTINUE (YES/NO):\")\n",
    "        print(\"*\" * 40, \"****\", \"*\" * 43)\n",
    "        # If the user chooses not to continue, set 'bul' to False to exit the while loop\n",
    "        if s.lower() == 'no':\n",
    "            bul = False\n",
    "    # Print the bill header\n",
    "    print(\"-\" * 40, \"BILL\", \"-\" * 43)\n",
    "    # Initialize a variable to store the total billing amount\n",
    "    total = 0\n",
    "    # Iterate through the 'id_dct' dictionary to calculate the total amount and print the bill details\n",
    "    for key in id_dct.keys():\n",
    "        print(\"PRODUCT ID:\", key, \"\\t NAME:\", record[key][\"NAME\"].ljust(15), \"\\t PRICE:Rs\", str(record[key][\"PRICE\"]).ljust(5), \"\\t QUANTITY:\", id_dct[key], \"\\n\")\n",
    "        total += record[key][\"PRICE\"] * id_dct[key]\n",
    "    # Print the total billing amount\n",
    "    print(\"-\" * 89)\n",
    "    print(\"TOTAL:                                                          Rs\", total, \"\\n\")\n",
    "    if total>5000:\n",
    "        total-=(total*0.5)\n",
    "        print(\"TOTAL AFTER 50% DISCOUNT APPLIED                                Rs\",total,\"\\n\")\n",
    "    print(\"18% GST WILL BE APPLIED.\")\n",
    "    total+=(total*(18/100))\n",
    "    print(\"FINAL BILLING AMOUNT:                                           Rs\",total,\"\\n\")\n",
    "    # Print the billing time and date\n",
    "    print(\"BILLING TIME AND DATE:\", [time.ctime().upper()])\n",
    "    s=''\n",
    "    v=''\n",
    "    for key in id_dct.keys():\n",
    "        s+=key+'\\t'\n",
    "        v+=str(id_dct[key])+'\\t'\n",
    "    sales=time.ctime().upper()+\",\"+ui_username+\",\"+ui_phone+\",\"+ui_email+\",\"+s[:-1]+\",\"+v[:-1]+\",\"+str(total)+\"\\n\"\n",
    "    fd.write(sales)\n",
    "    fd.close()\n",
    "    # Convert the 'record' dictionary to JSON format and write it to a file\n",
    "    js = json.dumps(record)\n",
    "    fd = open(\"INVENTORY.json\", \"w\")\n",
    "    fd.write(js)\n",
    "    fd.close()\n",
    "# Handle the KeyError exception\n",
    "except KeyError:\n",
    "    print(\"WE DON'T HAVE THAT PARTICULAR ITEM WITH THAT PRODUCT ID IN OUR INVENTORY.\")\n",
    "    print(\"PLEASE TRY AGAIN WITH A VALID ID.\")"
   ]
  },
  {
   "cell_type": "code",
   "execution_count": null,
   "id": "6377a568-5df7-42c3-9908-1d8055b9c513",
   "metadata": {},
   "outputs": [],
   "source": []
  }
 ],
 "metadata": {
  "kernelspec": {
   "display_name": "Python 3 (ipykernel)",
   "language": "python",
   "name": "python3"
  },
  "language_info": {
   "codemirror_mode": {
    "name": "ipython",
    "version": 3
   },
   "file_extension": ".py",
   "mimetype": "text/x-python",
   "name": "python",
   "nbconvert_exporter": "python",
   "pygments_lexer": "ipython3",
   "version": "3.11.7"
  }
 },
 "nbformat": 4,
 "nbformat_minor": 5
}
